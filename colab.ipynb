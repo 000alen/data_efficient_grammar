{
 "cells": [
  {
   "cell_type": "code",
   "execution_count": null,
   "metadata": {},
   "outputs": [],
   "source": [
    "!pip install -q condacolab\n",
    "import condacolab\n",
    "condacolab.install()\n",
    "import condacolab\n",
    "condacolab.check()\n",
    "from google.colab import drive\n",
    "drive.mount('/content/drive')\n",
    "# Change this path to match the corect destination\n",
    "%cd /content/drive/MyDrive/data_efficient_grammar/"
   ]
  },
  {
   "cell_type": "code",
   "execution_count": null,
   "metadata": {},
   "outputs": [],
   "source": [
    "conda create -n DEG_test python=3.6\n",
    "conda activate DEG_test\n",
    "conda install scipy==1.2.1 pandas==0.23.4 numpy==1.16.2 scikit-learn\n",
    "conda install pytorch torchvision torchaudio cpuonly -c pytorch\n",
    "conda install -c rdkit rdkit==2018.03.4.0\n",
    "\n",
    "\n",
    "pip install torch-scatter torch-sparse -f https://data.pyg.org/whl/torch-1.10.0+cpu.html\n",
    "pip install torch-geometric\n",
    "pip install torch-cluster torch-spline-conv -f https://data.pyg.org/whl/torch-1.10.0+cpu.html\n",
    "\n",
    "pip install setproctitle\n",
    "pip install graphviz"
   ]
  },
  {
   "cell_type": "code",
   "execution_count": null,
   "metadata": {},
   "outputs": [],
   "source": [
    "from private.hypergraph import Hypergraph, hg_to_mol\n",
    "from grammar_generation import random_produce"
   ]
  }
 ],
 "metadata": {
  "kernelspec": {
   "display_name": "Python 3",
   "language": "python",
   "name": "python3"
  },
  "language_info": {
   "name": "python",
   "version": "3.11.1 (main, Dec 23 2022, 09:40:27) [Clang 14.0.0 (clang-1400.0.29.202)]"
  },
  "orig_nbformat": 4,
  "vscode": {
   "interpreter": {
    "hash": "1a1af0ee75eeea9e2e1ee996c87e7a2b11a0bebd85af04bb136d915cefc0abce"
   }
  }
 },
 "nbformat": 4,
 "nbformat_minor": 2
}
